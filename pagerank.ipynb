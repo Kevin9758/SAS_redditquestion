{
 "cells": [
  {
   "cell_type": "markdown",
   "metadata": {},
   "source": [
    "# A2: Q4 and Q5"
   ]
  },
  {
   "cell_type": "code",
   "execution_count": 2,
   "metadata": {},
   "outputs": [],
   "source": [
    "import numpy as np\n",
    "from scipy.sparse import dok_matrix\n",
    "from copy import deepcopy\n",
    "import matplotlib.pyplot as plt"
   ]
  },
  {
   "cell_type": "markdown",
   "metadata": {},
   "source": [
    "# A2Q4a: `SparseMatMult`"
   ]
  },
  {
   "cell_type": "code",
   "execution_count": 3,
   "metadata": {},
   "outputs": [],
   "source": [
    "def SparseMatrixMultiply(M, v):\n",
    "    '''\n",
    "      y = SparseMatrixMultiply(G, v)\n",
    "      \n",
    "      Multiplies a vector (x) by a sparse matrix M,\n",
    "      such that y = M @ v .\n",
    "      \n",
    "      Inputs:\n",
    "        M is an N x M dictionary-of-keys (dok) sparse matrix\n",
    "        v is a vector of size M\n",
    "      \n",
    "      Output:\n",
    "        y is a vector of size N\n",
    "    '''\n",
    "    # obtain indices of non-zero elements in M , nonzero returns a tuple\n",
    "    rows,cols = M.nonzero()\n",
    "\n",
    "    Nrows,Ncols = np.shape(M)\n",
    "\n",
    "    y = np.zeros(Ncols)\n",
    "    \n",
    "    for i in range(len(rows)):\n",
    "      y[rows[i]] += M[rows[i],cols[i]] * v[cols[i]]\n",
    "\n",
    "    \n",
    "    return y"
   ]
  },
  {
   "cell_type": "code",
   "execution_count": 4,
   "metadata": {},
   "outputs": [
    {
     "name": "stdout",
     "output_type": "stream",
     "text": [
      "y = [ 0.1 -0.3  0.4]\n",
      "Answer should be [ 0.1 -0.3  0.4]\n",
      "y = [18. 18. 18. 18.]\n",
      "Answer should be [5, 9 ,0, 4]\n"
     ]
    }
   ],
   "source": [
    "# Simple test\n",
    "#     [1  0  0]      [ 0.1 ]\n",
    "# A = [0  0 -1]  b = [ 0.2 ]\n",
    "#     [0  2  0]      [ 0.3 ]\n",
    "A = dok_matrix((3,3), dtype=np.float32)\n",
    "A[0,0] = 1.\n",
    "A[1,2] = -1.\n",
    "A[2,1] = 2.\n",
    "b = np.array([0.1, 0.2, 0.3])\n",
    "y = SparseMatrixMultiply(A, b)\n",
    "print(f'y = {y}')\n",
    "print(f'Answer should be [ 0.1 -0.3  0.4]')\n",
    "\n",
    "A = dok_matrix((4,4), dtype=np.float32)\n",
    "A[0,0] = 1.\n",
    "A[0,1] = 2.\n",
    "A[0,2] = 3.\n",
    "A[0,3] = 1.\n",
    "A[1,0] = 1.\n",
    "A[1,1] = 2.\n",
    "A[1,2] = 3.\n",
    "A[1,3] = 1.\n",
    "A[2,0] = 1.\n",
    "A[2,1] = 2.\n",
    "A[2,2] = 3.\n",
    "A[2,3] = 1.\n",
    "A[3,0] = 1.\n",
    "A[3,1] = 2.\n",
    "A[3,2] = 3.\n",
    "A[3,3] = 1.\n",
    "b = np.array([1, 2, 3, 4])\n",
    "y = SparseMatrixMultiply(A, b)\n",
    "print(f'y = {y}')\n",
    "print(f'Answer should be [5, 9 ,0, 4]')\n"
   ]
  },
  {
   "cell_type": "markdown",
   "metadata": {},
   "source": [
    "# A2Q4b: `PageRank`"
   ]
  },
  {
   "cell_type": "code",
   "execution_count": 35,
   "metadata": {
    "code_folding": []
   },
   "outputs": [
    {
     "name": "stdout",
     "output_type": "stream",
     "text": [
      "(array([0.41217896, 0.15273223, 0.10718051, 0.32790829]), 17)\n"
     ]
    }
   ],
   "source": [
    "def PageRank(G, alpha):\n",
    "    '''\n",
    "     p, iters = PageRank(G, alpha)\n",
    "\n",
    "     Computes the Google Page-rank for the network in the adjacency matrix G.\n",
    "     \n",
    "     Note: This function never forms a full RxR matrix, where R is the number\n",
    "           of node in the network.\n",
    "\n",
    "     Input\n",
    "       G     is an RxR adjacency matrix, G[i,j] = 1 iff node j projects to node i\n",
    "             Note: G must be a dictionary-of-keys (dok) sparse matrix\n",
    "       alpha is a scalar between 0 and 1\n",
    "\n",
    "     Output\n",
    "       p     is a probability vector containing the Page-rank of each node\n",
    "       iters is the number of iterations used to achieve a change tolerance\n",
    "             of 1e-8 (changes to elements of p are all smaller than 1e-8)\n",
    "    '''\n",
    "    R = np.shape(G)[0]\n",
    "    rows,cols = G.nonzero()\n",
    "    iters = 0\n",
    "    Nrows,Ncols = np.shape(G)\n",
    "\n",
    "    u,c = np.unique(cols,return_counts=True)\n",
    "\n",
    "    for i in range(len(u)):\n",
    "         # G[:, u[i]][:] = [x / c[i] for x in G[:, u[i]]]\n",
    "         G[:, u[i]] = G[:, u[i]] / c[i] # since numpy array\n",
    "    #print(G)\n",
    "    d = np.zeros(Ncols)\n",
    "    e = np.ones(Ncols)\n",
    "\n",
    "    for i in range(Ncols):\n",
    "          if np.sum(G[:, i]) == 0:\n",
    "                d[i] = 1\n",
    "   # print(d)\n",
    "\n",
    "    #P =   G + (1 / Ncols) * np.multiply(e, np.transpose(d)) \n",
    "\n",
    "    # Don't form the entire since it is too large\n",
    "    #M = alpha * P + (1 - alpha) * (1 / Ncols) * np.multiply(e, np.transpose(e))\n",
    "\n",
    "    converge = False\n",
    "    p = e / Ncols\n",
    "\n",
    "    #print(p)\n",
    "\n",
    "    while(converge == False):\n",
    "          p_new = alpha * (SparseMatrixMultiply(G,p) + (1 / Ncols) * np.dot(np.transpose(d),p) * e) + (1 - alpha) * e / Ncols\n",
    "\n",
    "         # print(p_new)\n",
    "          #print(G)\n",
    "          #print(p)\n",
    "          #print(SparseMatrixMultiply(G,p))\n",
    "          #print(SparseMatrixMultiply(G,np.transpose(p)))\n",
    "         #print(d)\n",
    "         # print(p)\n",
    "         # print(np.dot(d,p))\n",
    "          #SparseMatrixMultiply(alpha * P + (1 - alpha) * (1 / Ncols) * np.multiply(e, np.transpose(e)),p)\n",
    "          #print(M)\n",
    "          delta = np.linalg.norm(p_new - p, ord = np.inf)\n",
    "          if delta < 1e-8:\n",
    "            converge = True \n",
    "          iters += 1\n",
    "          p = p_new\n",
    "\n",
    "    return p, iters\n",
    "\n",
    "\n",
    "\n",
    "\n",
    "\n",
    "\n",
    "\n",
    "A = dok_matrix((4,4), dtype=np.float32)\n",
    "A[0,0] = 1.\n",
    "A[0,1] = 1\n",
    "A[1,2] = 1.\n",
    "A[3,0] = 1.\n",
    "A[3,2] = 1\n",
    "\n",
    "print(PageRank(A,0.85))"
   ]
  },
  {
   "cell_type": "markdown",
   "metadata": {},
   "source": [
    "# A2Q5: Illegal Trading Network"
   ]
  },
  {
   "cell_type": "markdown",
   "metadata": {},
   "source": [
    "## (a) Create sparse matrix"
   ]
  },
  {
   "cell_type": "code",
   "execution_count": null,
   "metadata": {},
   "outputs": [],
   "source": [
    "# === YOUR CODE HERE ===\n"
   ]
  },
  {
   "cell_type": "markdown",
   "metadata": {},
   "source": [
    "## (b) Run PageRank on network"
   ]
  },
  {
   "cell_type": "code",
   "execution_count": null,
   "metadata": {},
   "outputs": [],
   "source": [
    "# === YOUR CODE HERE ===\n"
   ]
  },
  {
   "cell_type": "markdown",
   "metadata": {},
   "source": [
    "## (c) Note to police"
   ]
  },
  {
   "cell_type": "markdown",
   "metadata": {},
   "source": [
    "DOUBLE-CLICK TO PLACE YOUR COMMENTS HERE\n"
   ]
  },
  {
   "cell_type": "code",
   "execution_count": null,
   "metadata": {},
   "outputs": [],
   "source": []
  }
 ],
 "metadata": {
  "kernelspec": {
   "display_name": "Python 3",
   "language": "python",
   "name": "python3"
  },
  "language_info": {
   "codemirror_mode": {
    "name": "ipython",
    "version": 3
   },
   "file_extension": ".py",
   "mimetype": "text/x-python",
   "name": "python",
   "nbconvert_exporter": "python",
   "pygments_lexer": "ipython3",
   "version": "3.8.8"
  }
 },
 "nbformat": 4,
 "nbformat_minor": 2
}
